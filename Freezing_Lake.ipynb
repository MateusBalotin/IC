{
  "cells": [
    {
      "cell_type": "markdown",
      "metadata": {
        "id": "xzjsrRLe6GRL"
      },
      "source": [
        "#Freezing Lake\n"
      ]
    },
    {
      "cell_type": "code",
      "execution_count": 1,
      "metadata": {
        "id": "8i3TPkbU6QXb"
      },
      "outputs": [],
      "source": [
        "import numpy as np\n",
        "import gym\n",
        "import random\n",
        "import time\n",
        "from IPython.display import clear_output"
      ]
    },
    {
      "cell_type": "code",
      "execution_count": 2,
      "metadata": {
        "id": "Cl4YYafb7jId"
      },
      "outputs": [],
      "source": [
        "env = gym.make('FrozenLake-v0', is_slippery=False)   #ambiente\n"
      ]
    },
    {
      "cell_type": "code",
      "execution_count": 3,
      "metadata": {
        "id": "hU4PcvZg9Hlk"
      },
      "outputs": [],
      "source": [
        "action_space_size = env.action_space.n                           # Linha da tabela\n",
        "state_space_size = env.observation_space.n                      # Coluna da tabela\n",
        "\n",
        "q_table = np.zeros((state_space_size, action_space_size))       # Q-Table\n"
      ]
    },
    {
      "cell_type": "code",
      "execution_count": 4,
      "metadata": {
        "colab": {
          "base_uri": "https://localhost:8080/"
        },
        "id": "wEIYAyxK9fQk",
        "outputId": "417a7461-7426-4f60-b0f0-6e8423f6c6c6"
      },
      "outputs": [
        {
          "output_type": "stream",
          "name": "stdout",
          "text": [
            "[[0. 0. 0. 0.]\n",
            " [0. 0. 0. 0.]\n",
            " [0. 0. 0. 0.]\n",
            " [0. 0. 0. 0.]\n",
            " [0. 0. 0. 0.]\n",
            " [0. 0. 0. 0.]\n",
            " [0. 0. 0. 0.]\n",
            " [0. 0. 0. 0.]\n",
            " [0. 0. 0. 0.]\n",
            " [0. 0. 0. 0.]\n",
            " [0. 0. 0. 0.]\n",
            " [0. 0. 0. 0.]\n",
            " [0. 0. 0. 0.]\n",
            " [0. 0. 0. 0.]\n",
            " [0. 0. 0. 0.]\n",
            " [0. 0. 0. 0.]]\n"
          ]
        }
      ],
      "source": [
        "print(q_table)"
      ]
    },
    {
      "cell_type": "code",
      "execution_count": 5,
      "metadata": {
        "id": "kzWuf-qk9hT_"
      },
      "outputs": [],
      "source": [
        "num_episodes = 10000\n",
        "max_steps_per_episode = 100\n",
        "\n",
        "learning_rate = 0.1\n",
        "discount_rate = 0.99\n",
        "\n",
        "exploration_rate = 1\n",
        "max_exploration_rate = 1\n",
        "min_exploration_rate = 0.01\n",
        "exploration_decay_rate = 0.001"
      ]
    },
    {
      "cell_type": "code",
      "execution_count": 6,
      "metadata": {
        "colab": {
          "base_uri": "https://localhost:8080/"
        },
        "id": "jqKLdi4u-BJV",
        "outputId": "7a9adad5-f7bc-44e3-e80b-e6718d45126e"
      },
      "outputs": [
        {
          "output_type": "stream",
          "name": "stdout",
          "text": [
            "********Average reward per thousand episodes********\n",
            "\n",
            "1000 :  0.2580000000000002\n",
            "2000 :  0.7230000000000005\n",
            "3000 :  0.9160000000000007\n",
            "4000 :  0.9560000000000007\n",
            "5000 :  0.9750000000000008\n",
            "6000 :  0.9810000000000008\n",
            "7000 :  0.9880000000000008\n",
            "8000 :  0.9900000000000008\n",
            "9000 :  0.9900000000000008\n",
            "10000 :  0.9910000000000008\n"
          ]
        }
      ],
      "source": [
        "rewards_all_episodes = []\n",
        "# Q-learning algorithm\n",
        "for episode in range(num_episodes):\n",
        "    state = env.reset()    #reseta o estado toda vez que começa um episódio\n",
        "\n",
        "    done = False           #Para saber quando acabou o episodio\n",
        "    rewards_current_episode = 0           #resetar as recompensas\n",
        "\n",
        "\n",
        "    for step in range(max_steps_per_episode): \n",
        "      \n",
        "        exploration_rate_threshold = random.uniform(0, 1)       #Numero r\n",
        "        if exploration_rate_threshold > exploration_rate:       #Saber se vamos explorar ou exploitar o ambiente\n",
        "            action = np.argmax(q_table[state,:]) \n",
        "        else:\n",
        "            action = env.action_space.sample()     \n",
        "\n",
        "        new_state, reward, done, info = env.step(action)   #Depois de chamar action temos esses dados\n",
        "\n",
        "        # Update Q-table for Q(s,a)\n",
        "        q_table[state, action] = q_table[state, action] * (1 - learning_rate) + learning_rate * (reward + discount_rate * np.max(q_table[new_state, :]))\n",
        "\n",
        "        state = new_state      #atualiza o novo estado\n",
        "        rewards_current_episode += reward   #atualizamos a recompensa\n",
        "\n",
        "        if done == True:    #acabou o episódio, gg ou reporta time\n",
        "          break             #se acabou volta pro episodio\n",
        "\n",
        "    #Exploration rate decay\n",
        "\n",
        "    exploration_rate = min_exploration_rate + \\\n",
        "    (max_exploration_rate - min_exploration_rate) * np.exp(-exploration_decay_rate*episode)\n",
        "\n",
        "    rewards_all_episodes.append(rewards_current_episode)   #colocamos a nossa recompensa numa lista das recompensas\n",
        "\n",
        "# Calculate and print the average reward per thousand episodes\n",
        "rewards_per_thousand_episodes = np.split(np.array(rewards_all_episodes),num_episodes/1000)\n",
        "count = 1000\n",
        "print(\"********Average reward per thousand episodes********\\n\")\n",
        "for r in rewards_per_thousand_episodes:\n",
        "    print(count, \": \", str(sum(r/1000)))\n",
        "    count += 1000\n",
        "\n"
      ]
    },
    {
      "cell_type": "code",
      "execution_count": 7,
      "metadata": {
        "colab": {
          "base_uri": "https://localhost:8080/"
        },
        "id": "nsqiuO_GNu7j",
        "outputId": "1efd9bc8-219a-4a96-ea30-45691b32e85e"
      },
      "outputs": [
        {
          "output_type": "stream",
          "name": "stdout",
          "text": [
            "\n",
            "\n",
            "********Q-table********\n",
            "\n",
            "[[0.94148015 0.93206535 0.95099005 0.94148015]\n",
            " [0.94148015 0.         0.96059601 0.95099005]\n",
            " [0.95099005 0.970299   0.95099004 0.96059601]\n",
            " [0.96059601 0.         0.91317277 0.76019489]\n",
            " [0.91118863 0.77929148 0.         0.94148015]\n",
            " [0.         0.         0.         0.        ]\n",
            " [0.         0.9801     0.         0.96059601]\n",
            " [0.         0.         0.         0.        ]\n",
            " [0.37209025 0.         0.92614816 0.41157711]\n",
            " [0.6163861  0.81949698 0.98009998 0.        ]\n",
            " [0.9702987  0.99       0.         0.97029892]\n",
            " [0.         0.         0.         0.        ]\n",
            " [0.         0.         0.         0.        ]\n",
            " [0.         0.6717397  0.98999978 0.7093782 ]\n",
            " [0.98009717 0.98999999 1.         0.98009997]\n",
            " [0.         0.         0.         0.        ]]\n"
          ]
        }
      ],
      "source": [
        "# Print updated Q-table\n",
        "print(\"\\n\\n********Q-table********\\n\")\n",
        "print(q_table)"
      ]
    },
    {
      "cell_type": "code",
      "execution_count": 8,
      "metadata": {
        "colab": {
          "base_uri": "https://localhost:8080/"
        },
        "id": "MTq1JNfT_FCQ",
        "outputId": "30a2e15f-f175-4f5c-d81c-4ce9a3889750"
      },
      "outputs": [
        {
          "output_type": "stream",
          "name": "stdout",
          "text": [
            "  (Right)\n",
            "SFFF\n",
            "FHFH\n",
            "FFFH\n",
            "HFF\u001b[41mG\u001b[0m\n",
            "****You reached the goal!****\n"
          ]
        }
      ],
      "source": [
        "for episode in range(3):\n",
        "  \n",
        "    state = env.reset()   #Resetar estado\n",
        "    done = False          #acabou o episodio\n",
        "    print(\"*****EPISODE \", episode+1, \"*****\\n\\n\\n\\n\")  #Mostra o episodio\n",
        "    \n",
        "    time.sleep(1)   \n",
        "\n",
        "    for step in range(max_steps_per_episode):        \n",
        "        clear_output(wait=True)    #Limpa o outup do notebook, wait=true espera limpar o outup quando tiver outro output\n",
        "        env.render()               # Vai mostrar onde o nosso agente está de fato\n",
        "        time.sleep(0.3)\n",
        "\n",
        "        action = np.argmax(q_table[state,:])             # A ação vai ser a que tem o maior q-valor da nossa q-tabela\n",
        "        new_state, reward, done, info = env.step(action) # Tomamos essa ação\n",
        "\n",
        "        if done:                         #se a ação acabou o episódio então ...\n",
        "          clear_output(wait=True)        #\n",
        "          env.render()                   #rendeziramos o ambiente para ver onde o agente parou desde o último passo \n",
        "          if reward == 1:                #ganhou\n",
        "              print(\"****You reached the goal!****\")\n",
        "              time.sleep(3)\n",
        "          else:                          #perdeu\n",
        "              print(\"****You fell through a hole!****\")\n",
        "              time.sleep(3)\n",
        "          clear_output(wait=True)\n",
        "          break                         #novo episodio\n",
        "\n",
        "        state = new_state             #muda estado\n",
        "\n",
        "env.close()"
      ]
    }
  ],
  "metadata": {
    "colab": {
      "name": "Freezing Lake.ipynb",
      "provenance": []
    },
    "kernelspec": {
      "display_name": "Python 3",
      "name": "python3"
    },
    "language_info": {
      "name": "python"
    }
  },
  "nbformat": 4,
  "nbformat_minor": 0
}